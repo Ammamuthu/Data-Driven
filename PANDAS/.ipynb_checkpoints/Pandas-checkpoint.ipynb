{
 "cells": [
  {
   "cell_type": "code",
   "execution_count": null,
   "id": "958e71e9-aa38-4a58-a56e-0130a449f49c",
   "metadata": {},
   "outputs": [],
   "source": [
    "import pandas as pd\n",
    "df = pd.read_csv('pokemon_data.csv')\n",
    "\n"
   ]
  },
  {
   "cell_type": "code",
   "execution_count": null,
   "id": "cbbf5f51-23d9-4f58-9478-f35a64bfa61f",
   "metadata": {
    "scrolled": true
   },
   "outputs": [],
   "source": [
    "print (df.head())\n",
    "# or\n",
    "print (df.head(5))"
   ]
  },
  {
   "cell_type": "code",
   "execution_count": null,
   "id": "b9e6b984-1588-4588-b959-15ddd3446261",
   "metadata": {
    "scrolled": true
   },
   "outputs": [],
   "source": [
    "df = pd.read_csv('pokemon_data.csv')\n",
    "\n",
    "print (df.tail(10))"
   ]
  },
  {
   "cell_type": "code",
   "execution_count": null,
   "id": "fe50ced0-2ae6-4b11-865f-4635326b6c4d",
   "metadata": {},
   "outputs": [],
   "source": [
    "df.columns"
   ]
  },
  {
   "cell_type": "code",
   "execution_count": null,
   "id": "1075bc6c-c06d-4d7d-9198-b30722757341",
   "metadata": {},
   "outputs": [],
   "source": [
    "print(df['Name'])\n",
    "\n",
    "print(df['Name'][0:5])"
   ]
  },
  {
   "cell_type": "code",
   "execution_count": null,
   "id": "d717dc99-fb81-45b5-8558-165a8e260f8d",
   "metadata": {},
   "outputs": [],
   "source": [
    "print (df[['Name','HP','Type 1']])"
   ]
  },
  {
   "cell_type": "code",
   "execution_count": null,
   "id": "56d70740-5a09-4ee3-bb5e-d6b65451c4b8",
   "metadata": {},
   "outputs": [],
   "source": [
    "df.describe()"
   ]
  },
  {
   "cell_type": "code",
   "execution_count": null,
   "id": "4a467a53-6eeb-4247-bdf7-011b92766ecc",
   "metadata": {},
   "outputs": [],
   "source": [
    "for index, row in df.iterrows():\n",
    "    print(index, row)"
   ]
  },
  {
   "cell_type": "code",
   "execution_count": null,
   "id": "e4c45ebe-3365-47b3-8203-38e2fabf9506",
   "metadata": {},
   "outputs": [],
   "source": [
    "for index, row in df.iterrows():\n",
    "    print(index, row['Name'])"
   ]
  },
  {
   "cell_type": "code",
   "execution_count": null,
   "id": "8c301bd8-0277-447f-8ca6-6bb96a3c47ac",
   "metadata": {},
   "outputs": [],
   "source": [
    "df.loc[df['Type 1'] == 'Fire']"
   ]
  },
  {
   "cell_type": "code",
   "execution_count": null,
   "id": "edfda0c7-cdfe-4fbc-99e3-ac23c8e3ff30",
   "metadata": {},
   "outputs": [],
   "source": [
    "df.sort_values('Name')\n",
    "\n",
    "df.sort_values('Name', ascending=False)"
   ]
  },
  {
   "cell_type": "code",
   "execution_count": null,
   "id": "7122e07c-f4d0-459c-b6e6-52568cd6e066",
   "metadata": {},
   "outputs": [],
   "source": [
    "df.sort_values(['Type 1' ,'Name'], ascending=False)"
   ]
  },
  {
   "cell_type": "code",
   "execution_count": null,
   "id": "aa1b9b4b-c7b0-4f88-94d4-ed083059e4fd",
   "metadata": {},
   "outputs": [],
   "source": [
    "# Adding a Column\n",
    "df['Total']=df['HP'] + df['Attack']+df['Speed']"
   ]
  },
  {
   "cell_type": "code",
   "execution_count": null,
   "id": "c96e16f1-bace-4b69-af01-edd2e6f20e2b",
   "metadata": {},
   "outputs": [],
   "source": [
    "# Printing\n",
    "df"
   ]
  },
  {
   "cell_type": "code",
   "execution_count": null,
   "id": "41c959b6-1b45-4e57-a9fe-4272ddbb5dba",
   "metadata": {},
   "outputs": [],
   "source": [
    "# Dropping a Column\n",
    "\n",
    "df=df.drop(columns=[\"Total\"])\n"
   ]
  },
  {
   "cell_type": "code",
   "execution_count": null,
   "id": "7f09260e-c723-4f76-b27d-a526febb9f59",
   "metadata": {},
   "outputs": [],
   "source": [
    "# Dropped Printing\n",
    "df"
   ]
  },
  {
   "cell_type": "code",
   "execution_count": null,
   "id": "30968142-853b-4eb0-8412-ea3231b8d008",
   "metadata": {},
   "outputs": [],
   "source": [
    "# Filltering Data \n",
    "new_df=df.loc[   (df['Type 1']=='Grass')   &   (df['HP']>80)   ]"
   ]
  },
  {
   "cell_type": "code",
   "execution_count": null,
   "id": "47b3dfba-a74d-4176-a7bc-2abe8952e7c4",
   "metadata": {},
   "outputs": [],
   "source": [
    "new_df"
   ]
  },
  {
   "cell_type": "code",
   "execution_count": null,
   "id": "d381b6c1-b480-4375-98b0-6cc4981f7068",
   "metadata": {},
   "outputs": [],
   "source": [
    "# Filtering data using String contains on the column\n",
    "\n",
    "df.loc[df['Name'].str.contains('Mega')]\n",
    "\n"
   ]
  },
  {
   "cell_type": "code",
   "execution_count": null,
   "id": "ce0a8756-bcea-45f3-9a35-339ebca48bc1",
   "metadata": {},
   "outputs": [],
   "source": [
    "# Filtering data not equal -> ~\n",
    "\n",
    "df.loc[~df['Name'].str.contains('Mega')]"
   ]
  },
  {
   "cell_type": "code",
   "execution_count": null,
   "id": "e33e8f23-95b4-465c-a7fc-276b28ed67bf",
   "metadata": {},
   "outputs": [],
   "source": [
    "df.loc[~df['Name'].str.contains('Mega')]"
   ]
  },
  {
   "cell_type": "code",
   "execution_count": null,
   "id": "3388bd81-7baa-4b80-bf3e-952aaf72ae6b",
   "metadata": {},
   "outputs": [],
   "source": [
    "# Update Query  col = value , col =  val\n",
    "\n",
    "df.loc[df['Type 1'] == 'Grass' , ['Generation']] = 99\n",
    "\n",
    "\n"
   ]
  },
  {
   "cell_type": "code",
   "execution_count": null,
   "id": "c20a5eac-f7a8-4a83-9b9b-cbed11578520",
   "metadata": {},
   "outputs": [],
   "source": [
    "df"
   ]
  },
  {
   "cell_type": "code",
   "execution_count": null,
   "id": "3ec211ab-ad4d-438a-8a90-77b67a47b0dc",
   "metadata": {},
   "outputs": [],
   "source": [
    "# For Multiple column updatee\n",
    "\n",
    "df.loc[df['Type 1'] == 'Grass' , ['Generation','Speed']] = [99,999]"
   ]
  },
  {
   "cell_type": "code",
   "execution_count": null,
   "id": "16b52546-7676-4737-9648-d6429f1a54b0",
   "metadata": {},
   "outputs": [],
   "source": [
    "df"
   ]
  },
  {
   "cell_type": "code",
   "execution_count": null,
   "id": "212e8728-132e-4192-b4a7-242a6c416663",
   "metadata": {},
   "outputs": [],
   "source": [
    "# Groupby thingss\n",
    "df.groupby(['Type 1']).mean()"
   ]
  },
  {
   "cell_type": "code",
   "execution_count": null,
   "id": "8b5fc321-e236-408a-bdf4-40c6155e7718",
   "metadata": {},
   "outputs": [],
   "source": [
    "df.groupby(['Name']).mean().sort_values('Attack' , ascending = False)"
   ]
  },
  {
   "cell_type": "code",
   "execution_count": null,
   "id": "fdcb9f5f-3f0d-490a-949e-4c889b497b99",
   "metadata": {},
   "outputs": [],
   "source": [
    "df.groupby(['Type 1']).sum()"
   ]
  },
  {
   "cell_type": "code",
   "execution_count": null,
   "id": "f2b7d150-70f8-4e04-a2ea-7e3c7e6a25af",
   "metadata": {},
   "outputs": [],
   "source": [
    "df.groupby(['Type 1']).count()"
   ]
  },
  {
   "cell_type": "code",
   "execution_count": null,
   "id": "b5d9ee2b-247b-4802-8a15-76631ae2dc72",
   "metadata": {},
   "outputs": [],
   "source": [
    "df.groupby(['Type 1']).count()['count']"
   ]
  },
  {
   "cell_type": "code",
   "execution_count": null,
   "id": "a8705653-e113-435a-8a46-0780d302002e",
   "metadata": {},
   "outputs": [],
   "source": []
  }
 ],
 "metadata": {
  "kernelspec": {
   "display_name": "Python 3 (ipykernel)",
   "language": "python",
   "name": "python3"
  },
  "language_info": {
   "codemirror_mode": {
    "name": "ipython",
    "version": 3
   },
   "file_extension": ".py",
   "mimetype": "text/x-python",
   "name": "python",
   "nbconvert_exporter": "python",
   "pygments_lexer": "ipython3",
   "version": "3.11.2"
  }
 },
 "nbformat": 4,
 "nbformat_minor": 5
}
